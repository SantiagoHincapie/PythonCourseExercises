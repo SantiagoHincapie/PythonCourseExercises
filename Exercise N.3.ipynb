{
 "cells": [
  {
   "cell_type": "markdown",
   "metadata": {},
   "source": [
    "# Exercises N.3"
   ]
  },
  {
   "cell_type": "markdown",
   "metadata": {},
   "source": [
    "## Exercise 1"
   ]
  },
  {
   "cell_type": "code",
   "execution_count": 4,
   "metadata": {},
   "outputs": [
    {
     "name": "stdout",
     "output_type": "stream",
     "text": [
      "El año no es bisiesto\n"
     ]
    }
   ],
   "source": [
    "year = int(input(\"Digite un año: \"))\n",
    "\n",
    "if year % 4 == 0 and year % 100 != 0 or year % 400 == 0:\n",
    "    print(\"El año es bisiesto\")\n",
    "else:\n",
    "    print(\"El año no es bisiesto\")"
   ]
  },
  {
   "cell_type": "markdown",
   "metadata": {},
   "source": [
    "## Exercise 2"
   ]
  },
  {
   "cell_type": "code",
   "execution_count": 6,
   "metadata": {},
   "outputs": [
    {
     "name": "stdout",
     "output_type": "stream",
     "text": [
      "4 + 0 = 4\n",
      "4 - 0 = 4\n",
      "4 * 0 = 0\n",
      "No se puede dividir por 0\n"
     ]
    }
   ],
   "source": [
    "num_1 = int(input(\"Digite un número: \"))\n",
    "num_2 = int(input(\"Digite otro número: \"))\n",
    "print(f\"{num_1} + {num_2} = {num_1 + num_2}\")\n",
    "print(f\"{num_1} - {num_2} = {num_1 - num_2}\")\n",
    "print(f\"{num_1} * {num_2} = {num_1 * num_2}\")\n",
    "if num_2 == 0:\n",
    "    print(\"No se puede dividir por 0\")\n",
    "else:\n",
    "    print(f\"{num_1} / {num_2} = {num_1 / num_2}\")"
   ]
  },
  {
   "cell_type": "markdown",
   "metadata": {},
   "source": [
    "## Exercise 3"
   ]
  },
  {
   "cell_type": "code",
   "execution_count": null,
   "metadata": {},
   "outputs": [],
   "source": [
    "num_3 = int(input(\"Digite un número: \"))\n",
    "if num_3 >0:\n",
    "    print(\"El número es positivo\")\n",
    "elif num_3 < 0:\n",
    "    print(\"El número es negativo\")\n",
    "else:\n",
    "    print(\"El número es 0\")"
   ]
  }
 ],
 "metadata": {
  "kernelspec": {
   "display_name": ".venv",
   "language": "python",
   "name": "python3"
  },
  "language_info": {
   "codemirror_mode": {
    "name": "ipython",
    "version": 3
   },
   "file_extension": ".py",
   "mimetype": "text/x-python",
   "name": "python",
   "nbconvert_exporter": "python",
   "pygments_lexer": "ipython3",
   "version": "3.12.4"
  }
 },
 "nbformat": 4,
 "nbformat_minor": 2
}
