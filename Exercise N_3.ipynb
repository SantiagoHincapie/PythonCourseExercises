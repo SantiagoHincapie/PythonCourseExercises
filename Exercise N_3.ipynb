{
 "cells": [
  {
   "cell_type": "markdown",
   "metadata": {},
   "source": [
    "# Exercises N.3"
   ]
  },
  {
   "cell_type": "markdown",
   "metadata": {},
   "source": [
    "## Exercise 1"
   ]
  },
  {
   "cell_type": "code",
   "execution_count": 4,
   "metadata": {},
   "outputs": [
    {
     "name": "stdout",
     "output_type": "stream",
     "text": [
      "El año no es bisiesto\n"
     ]
    }
   ],
   "source": [
    "year = int(input(\"Digite un año: \"))\n",
    "\n",
    "if year % 4 == 0 and year % 100 != 0 or year % 400 == 0:\n",
    "    print(\"El año es bisiesto\")\n",
    "else:\n",
    "    print(\"El año no es bisiesto\")"
   ]
  },
  {
   "cell_type": "markdown",
   "metadata": {},
   "source": [
    "## Exercise 2"
   ]
  },
  {
   "cell_type": "code",
   "execution_count": 6,
   "metadata": {},
   "outputs": [
    {
     "name": "stdout",
     "output_type": "stream",
     "text": [
      "4 + 0 = 4\n",
      "4 - 0 = 4\n",
      "4 * 0 = 0\n",
      "No se puede dividir por 0\n"
     ]
    }
   ],
   "source": [
    "num_1 = int(input(\"Digite un número: \"))\n",
    "num_2 = int(input(\"Digite otro número: \"))\n",
    "print(f\"{num_1} + {num_2} = {num_1 + num_2}\")\n",
    "print(f\"{num_1} - {num_2} = {num_1 - num_2}\")\n",
    "print(f\"{num_1} * {num_2} = {num_1 * num_2}\")\n",
    "if num_2 == 0:\n",
    "    print(\"No se puede dividir por 0\")\n",
    "else:\n",
    "    print(f\"{num_1} / {num_2} = {num_1 / num_2}\")"
   ]
  },
  {
   "cell_type": "markdown",
   "metadata": {},
   "source": [
    "## Exercise 3"
   ]
  },
  {
   "cell_type": "code",
   "execution_count": 9,
   "metadata": {},
   "outputs": [
    {
     "name": "stdout",
     "output_type": "stream",
     "text": [
      "El número es negativo\n"
     ]
    }
   ],
   "source": [
    "num_3 = int(input(\"Digite un número: \"))\n",
    "if num_3 >0:\n",
    "    print(\"El número es positivo\")\n",
    "elif num_3 < 0:\n",
    "    print(\"El número es negativo\")\n",
    "else:\n",
    "    print(\"El número es 0\")"
   ]
  },
  {
   "cell_type": "markdown",
   "metadata": {},
   "source": [
    "## Exercise 4"
   ]
  },
  {
   "cell_type": "code",
   "execution_count": 16,
   "metadata": {},
   "outputs": [
    {
     "name": "stdout",
     "output_type": "stream",
     "text": [
      "Domingo\n"
     ]
    }
   ],
   "source": [
    "opc = int(input(\"Digite una opción (1-7): \"))\n",
    "match opc:\n",
    "    case 1:\n",
    "        print(\"Lunes\")\n",
    "    case 2:\n",
    "        print(\"Martes\")\n",
    "    case 3:\n",
    "        print(\"Miércoles\")\n",
    "    case 4:\n",
    "        print(\"Jueves\")\n",
    "    case 5:\n",
    "        print(\"Viernes\")\n",
    "    case 6:\n",
    "        print(\"Sábado\")\n",
    "    case 7:\n",
    "        print(\"Domingo\")\n",
    "    case _:\n",
    "        print(\"Opción inválida\")"
   ]
  },
  {
   "cell_type": "markdown",
   "metadata": {},
   "source": [
    "## Exercise 5"
   ]
  },
  {
   "cell_type": "code",
   "execution_count": 28,
   "metadata": {},
   "outputs": [
    {
     "name": "stdout",
     "output_type": "stream",
     "text": [
      "Es un caracter especial\n"
     ]
    }
   ],
   "source": [
    "character = input(\"Digite un caracter: \")\n",
    "vocales = \"aeiou\"\n",
    "\n",
    "if len(character) == 1:\n",
    "    if character.lower() in vocales:  # Convierte a minúscula para comparar con \"aeiou\"\n",
    "        print(\"Es una vocal\")\n",
    "    elif character.isdigit():  # Verifica si es un número\n",
    "        print(\"Es un número\")\n",
    "    elif character.isalpha():  # Si es una letra y no es vocal, es consonante\n",
    "        print(\"Es una consonante\")\n",
    "    else:\n",
    "        print(\"Es un caracter especial\")  # Todo lo demás es un caracter especial\n",
    "else:\n",
    "    print(\"Debe ingresar un solo caracter\")\n"
   ]
  }
 ],
 "metadata": {
  "kernelspec": {
   "display_name": ".venv",
   "language": "python",
   "name": "python3"
  },
  "language_info": {
   "codemirror_mode": {
    "name": "ipython",
    "version": 3
   },
   "file_extension": ".py",
   "mimetype": "text/x-python",
   "name": "python",
   "nbconvert_exporter": "python",
   "pygments_lexer": "ipython3",
   "version": "3.12.4"
  }
 },
 "nbformat": 4,
 "nbformat_minor": 2
}
