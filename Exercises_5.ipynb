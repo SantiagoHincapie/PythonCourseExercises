{
 "cells": [
  {
   "cell_type": "markdown",
   "metadata": {},
   "source": [
    "# Exercises N.5"
   ]
  },
  {
   "cell_type": "markdown",
   "metadata": {},
   "source": [
    "## Excersice 1"
   ]
  },
  {
   "cell_type": "code",
   "execution_count": 3,
   "metadata": {},
   "outputs": [
    {
     "name": "stdout",
     "output_type": "stream",
     "text": [
      "El ultimo valor mas largo es 4444 con una longitud de 4 caracteres\n",
      "El ultimo valor mas corto es 1 con una longitud de 1 caracteres\n"
     ]
    }
   ],
   "source": [
    "numbers = input(\"Digite un conjunto de numero separados por espacios: \")\n",
    "numbers = numbers.split(\" \")\n",
    "largest = ''\n",
    "smallest = ' '\n",
    "\n",
    "for i in numbers:\n",
    "    if len(i) >= len(largest):\n",
    "        largest = i\n",
    "    if len(i) <= len(smallest):\n",
    "        smallest = i\n",
    "\n",
    "\n",
    "numbers = [int(i) for i in numbers]\n",
    "print(f'{numbers}')\n",
    "print(f'Longitud de la lista : {len(numbers)}')\n",
    "print(f'El ultimo valor mas largo es {largest} con una longitud de {len(str(largest))} caracteres')\n",
    "print(f'El ultimo valor mas corto es {smallest} con una longitud de {len(str(smallest))} caracteres')\n",
    "\n",
    "\n"
   ]
  },
  {
   "cell_type": "markdown",
   "metadata": {},
   "source": [
    "## Excersice 2"
   ]
  },
  {
   "cell_type": "code",
   "execution_count": 4,
   "metadata": {},
   "outputs": [
    {
     "name": "stdout",
     "output_type": "stream",
     "text": [
      "Value 1 = 1\n",
      "Value 2 = 2\n",
      "Value 3 = 3\n",
      "Value 4 = 4\n",
      "Value 5 = 5\n"
     ]
    }
   ],
   "source": [
    "tuple_1 = (1,2,3,4,5)\n",
    "value_1, value_2, value_3, value_4, value_5 = tuple_1\n",
    "print(f'Value 1 = {value_1}')\n",
    "print(f'Value 2 = {value_2}')\n",
    "print(f'Value 3 = {value_3}')\n",
    "print(f'Value 4 = {value_4}')\n",
    "print(f'Value 5 = {value_5}')"
   ]
  },
  {
   "cell_type": "markdown",
   "metadata": {},
   "source": [
    "## Exercise 3"
   ]
  },
  {
   "cell_type": "code",
   "execution_count": 15,
   "metadata": {},
   "outputs": [
    {
     "name": "stdout",
     "output_type": "stream",
     "text": [
      "La union de ambos conjuntos es = {'2', '3', '4', '5', '1'}\n",
      "La Interseccion de ambos conjuntos es = {'2', '3', '1'}\n",
      "La diferencia de ambos conjuntos es = {'4', '5'}\n"
     ]
    }
   ],
   "source": [
    "numbers_1 = input(\"Por favor inserte un conjunto de numeros separados por comas (1,2,3...): \")\n",
    "numbers_2 = input(\"Por favor inserte otro conjunto de numeros separados por comas (1,2,3...): \")\n",
    "numbers_1 = numbers_1.split(\",\")\n",
    "numbers_2 = numbers_2.split(\",\")\n",
    "numbers_1 = set(numbers_1)\n",
    "numbers_2 = set(numbers_2)\n",
    "\n",
    "\n",
    "\n",
    "print(f'La union de ambos conjuntos es = {numbers_1 | numbers_2}')\n",
    "print(f'La Interseccion de ambos conjuntos es = {numbers_1 & numbers_2}')\n",
    "print(f'La diferencia de ambos conjuntos es = {numbers_1 - numbers_2}')"
   ]
  },
  {
   "cell_type": "markdown",
   "metadata": {},
   "source": [
    "## Exercise 4"
   ]
  },
  {
   "cell_type": "code",
   "execution_count": 32,
   "metadata": {},
   "outputs": [
    {
     "name": "stdout",
     "output_type": "stream",
     "text": [
      "Diccionario generado: {'value1': '1', 'value2': '2', 'value3': '3'}\n"
     ]
    }
   ],
   "source": [
    "key_value = input(f'Digite varios valores y darle un nombre a estos valores ambos separado por \":\" (nombre:valor) \\n Si desea ingresar varios valores en formato \"nombre:valor\"\\nSeparelos por espacion \" \"\\n: ')\n",
    "key_value = [i.split(\":\") for i in key_value.split()]\n",
    "key_value = dict(key_value)\n",
    "\n",
    "print(f'Diccionario generado: {key_value}')\n"
   ]
  },
  {
   "cell_type": "markdown",
   "metadata": {},
   "source": [
    "## Exerice 5"
   ]
  },
  {
   "cell_type": "code",
   "execution_count": 36,
   "metadata": {},
   "outputs": [
    {
     "name": "stdout",
     "output_type": "stream",
     "text": [
      "Frecuencia: {'write': 1, 'a': 3, 'program': 1, 'that:': 1, 'prompts': 1, 'the': 3, 'user': 1, 'to': 2, 'enter': 1, 'sentence.': 2, 'uses': 1, 'dictionary': 1, 'count': 1, 'and': 1, 'display': 1, 'frequency': 1, 'of': 1, 'each': 1, 'word': 1, 'in': 1}\n"
     ]
    }
   ],
   "source": [
    "oracion = input('Ingrese una oracion:')\n",
    "counter = {}\n",
    "oracion = [i.lower() for i in oracion.split()]\n",
    "for palabra in oracion:\n",
    "    counter[palabra] = counter.get(palabra,0) + 1\n",
    "\n",
    "print(f\"Frecuencia: {counter}\")"
   ]
  }
 ],
 "metadata": {
  "kernelspec": {
   "display_name": ".venv",
   "language": "python",
   "name": "python3"
  },
  "language_info": {
   "codemirror_mode": {
    "name": "ipython",
    "version": 3
   },
   "file_extension": ".py",
   "mimetype": "text/x-python",
   "name": "python",
   "nbconvert_exporter": "python",
   "pygments_lexer": "ipython3",
   "version": "3.12.4"
  }
 },
 "nbformat": 4,
 "nbformat_minor": 2
}
