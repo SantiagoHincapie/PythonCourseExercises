{
 "cells": [
  {
   "cell_type": "markdown",
   "metadata": {},
   "source": [
    "# Exercises N.4"
   ]
  },
  {
   "cell_type": "markdown",
   "metadata": {},
   "source": [
    "## Exercise 1"
   ]
  },
  {
   "cell_type": "code",
   "execution_count": 4,
   "metadata": {},
   "outputs": [
    {
     "name": "stdout",
     "output_type": "stream",
     "text": [
      "4 x 1 = 4\n",
      "4 x 2 = 8\n",
      "4 x 3 = 12\n",
      "4 x 4 = 16\n",
      "4 x 5 = 20\n",
      "4 x 6 = 24\n",
      "4 x 7 = 28\n",
      "4 x 8 = 32\n",
      "4 x 9 = 36\n",
      "4 x 10 = 40\n"
     ]
    }
   ],
   "source": [
    "num = int(input(\"Digite la tabla de multiplicar que desea ver: \"))\n",
    "\n",
    "for i in range(1,10+1):\n",
    "    print(f\"{num} x {i} = {num*i}\")"
   ]
  },
  {
   "cell_type": "markdown",
   "metadata": {},
   "source": [
    "## Exercise 2"
   ]
  },
  {
   "cell_type": "code",
   "execution_count": 7,
   "metadata": {},
   "outputs": [
    {
     "name": "stdout",
     "output_type": "stream",
     "text": [
      "--- Adivina el numero ---\n",
      "---Estejuego  consiste---\n",
      "---En adivinar  un numero\n",
      "---Entre 0 y 18 ---\n",
      "El valor que buscas es mayor!!\n",
      "El valor que buscas es mayor!!\n",
      "El valor que buscas es mayor!!\n",
      "El valor que buscas es menor!!\n",
      "EL numero es el correcto!! 18\n"
     ]
    }
   ],
   "source": [
    "valor = 7\n",
    "i = True\n",
    "print(\"--- Adivina el numero ---\")\n",
    "print(\"---Estejuego  consiste---\")\n",
    "print(\"---En adivinar  un numero\")\n",
    "print(f\"---Entre 0 y {valor} ---\")\n",
    "\n",
    "\n",
    "while True:\n",
    "    user_input = int(input(\"Digite un valor a adivinar: \"))\n",
    "    if user_input > valor:\n",
    "        print(\"El valor que buscas es menor!!\")\n",
    "    elif user_input < valor:\n",
    "        print(\"El valor que buscas es mayor!!\")\n",
    "    else:\n",
    "        print(f\"Tu numero es el correcto!! {user_input}\")\n",
    "        break"
   ]
  },
  {
   "cell_type": "markdown",
   "metadata": {},
   "source": [
    "## Exercise 3"
   ]
  },
  {
   "cell_type": "code",
   "execution_count": 14,
   "metadata": {},
   "outputs": [
    {
     "name": "stdout",
     "output_type": "stream",
     "text": [
      "El total de vocales de tu frase es de : 4\n"
     ]
    }
   ],
   "source": [
    "user_string = input(\"Digite una frase: \")\n",
    "count = 0\n",
    "vocales = \"aeiou\"\n",
    "\n",
    "for i in user_string:\n",
    "    i = i.upper()\n",
    "    if i in vocales.upper():\n",
    "        count+=1\n",
    "    else:\n",
    "        pass\n",
    "\n",
    "print(f\"El total de vocales de tu frase es de : {count}\")"
   ]
  },
  {
   "cell_type": "markdown",
   "metadata": {},
   "source": [
    "## Exercise 4"
   ]
  },
  {
   "cell_type": "code",
   "execution_count": 16,
   "metadata": {},
   "outputs": [
    {
     "name": "stdout",
     "output_type": "stream",
     "text": [
      "Hola mundo/odnum aloH\n"
     ]
    }
   ],
   "source": [
    "user_string = input(\"Digite una frase: \")\n",
    "reverse_string=\"\"\n",
    "for i in user_string:\n",
    "    reverse_string = i+reverse_string\n",
    "print(f\"{user_string}/{reverse_string}\")"
   ]
  },
  {
   "cell_type": "markdown",
   "metadata": {},
   "source": [
    "## Exercise 5"
   ]
  },
  {
   "cell_type": "code",
   "execution_count": 17,
   "metadata": {},
   "outputs": [
    {
     "name": "stdout",
     "output_type": "stream",
     "text": [
      "{1}\n",
      "{2}\n",
      "Fizz\n",
      "{4}\n",
      "Buzz\n",
      "Fizz\n",
      "{7}\n",
      "{8}\n",
      "Fizz\n",
      "Buzz\n",
      "{11}\n",
      "Fizz\n",
      "{13}\n",
      "{14}\n",
      "Fizz\n",
      "{16}\n",
      "{17}\n",
      "Fizz\n",
      "{19}\n",
      "Buzz\n",
      "Fizz\n",
      "{22}\n",
      "{23}\n",
      "Fizz\n",
      "Buzz\n",
      "{26}\n",
      "Fizz\n",
      "{28}\n",
      "{29}\n",
      "Fizz\n",
      "{31}\n",
      "{32}\n",
      "Fizz\n",
      "{34}\n",
      "Buzz\n",
      "Fizz\n",
      "{37}\n",
      "{38}\n",
      "Fizz\n",
      "Buzz\n",
      "{41}\n",
      "Fizz\n",
      "{43}\n",
      "{44}\n",
      "Fizz\n",
      "{46}\n",
      "{47}\n",
      "Fizz\n",
      "{49}\n",
      "Buzz\n"
     ]
    }
   ],
   "source": [
    "for i in range(1,51):\n",
    "    if i % 3 == 0:\n",
    "        print(\"Fizz\")\n",
    "    elif i % 5 == 0:\n",
    "        print(\"Buzz\")\n",
    "    elif i % 3 == 0 and i % 5 == 0:\n",
    "        print(\"FizzBuzz\")\n",
    "    else:\n",
    "        print({i})"
   ]
  }
 ],
 "metadata": {
  "kernelspec": {
   "display_name": ".venv",
   "language": "python",
   "name": "python3"
  },
  "language_info": {
   "codemirror_mode": {
    "name": "ipython",
    "version": 3
   },
   "file_extension": ".py",
   "mimetype": "text/x-python",
   "name": "python",
   "nbconvert_exporter": "python",
   "pygments_lexer": "ipython3",
   "version": "3.12.4"
  }
 },
 "nbformat": 4,
 "nbformat_minor": 2
}
