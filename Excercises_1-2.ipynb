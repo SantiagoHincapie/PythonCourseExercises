{
 "cells": [
  {
   "cell_type": "code",
   "execution_count": 3,
   "metadata": {
    "vscode": {
     "languageId": "markdown"
    }
   },
   "outputs": [],
   "source": [
    "# Exercise N1 "
   ]
  },
  {
   "cell_type": "code",
   "execution_count": 4,
   "metadata": {
    "vscode": {
     "languageId": "markdown"
    }
   },
   "outputs": [],
   "source": [
    "## Exercise 1"
   ]
  },
  {
   "cell_type": "code",
   "execution_count": 7,
   "metadata": {},
   "outputs": [
    {
     "name": "stdout",
     "output_type": "stream",
     "text": [
      "Su edad en 10 años será de: 30\n"
     ]
    }
   ],
   "source": [
    "age = int(input(\"Digite su edad:\"))\n",
    "print(f\"Su edad en 10 años será de: {age+10}\")"
   ]
  },
  {
   "cell_type": "markdown",
   "metadata": {},
   "source": [
    "## Exercise 2"
   ]
  },
  {
   "cell_type": "code",
   "execution_count": 9,
   "metadata": {},
   "outputs": [
    {
     "name": "stdout",
     "output_type": "stream",
     "text": [
      "El usuario Sara, su color favorito es Roo, su comida favorita es Pasta y su hobby favorito es Basket\n"
     ]
    }
   ],
   "source": [
    "user = input(\"Digite su nombre:\")\n",
    "fav_color = input(\"Digite su color favorito:\")\n",
    "fav_food = input(\"Digite su comida favorita:\")\n",
    "fav_hobby = input(\"Digite su hobby favorito:\")\n",
    "\n",
    "print(f\"El usuario {user}, su color favorito es {fav_color}, su comida favorita es {fav_food} y su hobby favorito es {fav_hobby}\")"
   ]
  },
  {
   "cell_type": "markdown",
   "metadata": {},
   "source": [
    "## Exercise 3"
   ]
  },
  {
   "cell_type": "code",
   "execution_count": 10,
   "metadata": {},
   "outputs": [
    {
     "name": "stdout",
     "output_type": "stream",
     "text": [
      "La 40.0 celsuis en fahrenheit es: 104.0\n"
     ]
    }
   ],
   "source": [
    "celsuis = float(input(\"Digite la temperatura en celsuis:\"))\n",
    "fahrenheit = celsuis * 1.8 + 32\n",
    "print(f\"La {celsuis} celsuis en fahrenheit es: {fahrenheit}\")"
   ]
  },
  {
   "cell_type": "markdown",
   "metadata": {},
   "source": [
    "## Exercise 4"
   ]
  },
  {
   "cell_type": "code",
   "execution_count": 12,
   "metadata": {},
   "outputs": [
    {
     "name": "stdout",
     "output_type": "stream",
     "text": [
      "El número no es correcto\n"
     ]
    }
   ],
   "source": [
    "num = int(input(\"Digite un número entre 1-10:\"))\n",
    "if num >= 1 and num <= 10:\n",
    "    print(\"El número es correcto\")\n",
    "else:\n",
    "    print(\"El número no es correcto\")"
   ]
  },
  {
   "cell_type": "markdown",
   "metadata": {},
   "source": [
    "## Exercise 5"
   ]
  },
  {
   "cell_type": "code",
   "execution_count": 17,
   "metadata": {},
   "outputs": [
    {
     "name": "stdout",
     "output_type": "stream",
     "text": [
      "Hola\n",
      "Hola\n",
      "Hola\n",
      "\n"
     ]
    }
   ],
   "source": [
    "word = input(\"Digite una palabra:\")\n",
    "n = int(input(\"Digite un número:\"))\n",
    "print((word+\"\\n\")*n)"
   ]
  },
  {
   "cell_type": "markdown",
   "metadata": {},
   "source": [
    "# Exercises N.2"
   ]
  },
  {
   "cell_type": "markdown",
   "metadata": {},
   "source": [
    "## Exercise 1"
   ]
  },
  {
   "cell_type": "code",
   "execution_count": 19,
   "metadata": {},
   "outputs": [
    {
     "name": "stdout",
     "output_type": "stream",
     "text": [
      "HOLA MUNDO HELLO WORLD\n",
      "hola mundo hello world\n",
      "Hola Mundo Hello World\n"
     ]
    }
   ],
   "source": [
    "sentece = input(\"Digite una oración:\")\n",
    "print(sentece.upper())\n",
    "print(sentece.lower())\n",
    "print(sentece.title())"
   ]
  },
  {
   "cell_type": "markdown",
   "metadata": {},
   "source": [
    "## Exercise 2"
   ]
  },
  {
   "cell_type": "code",
   "execution_count": 30,
   "metadata": {},
   "outputs": [
    {
     "name": "stdout",
     "output_type": "stream",
     "text": [
      "Digite dos valores booleanos\n",
      "1 = True \n",
      "0 = False\n",
      "True\n",
      "False\n",
      "<class 'bool'>\n",
      "<class 'bool'>\n"
     ]
    }
   ],
   "source": [
    "print(\"Digite dos valores booleanos\")\n",
    "print(\"1 = True \\n0 = False\")\n",
    "\n",
    "bool1 = bool(int(input(\"Digite un valor booleano (1 o 0): \")))\n",
    "bool2 = bool(int(input(\"Digite otro valor booleano (1 o 0): \")))\n",
    "\n",
    "\n",
    "if bool1 and bool2:\n",
    "    print(\"Ambos valores son True\") \n",
    "elif bool1 or bool2:\n",
    "    print(\"Al menos un valor es True\") \n",
    "else:\n",
    "    print(\"Ningún valor es True\")"
   ]
  }
 ],
 "metadata": {
  "kernelspec": {
   "display_name": ".venv",
   "language": "python",
   "name": "python3"
  },
  "language_info": {
   "codemirror_mode": {
    "name": "ipython",
    "version": 3
   },
   "file_extension": ".py",
   "mimetype": "text/x-python",
   "name": "python",
   "nbconvert_exporter": "python",
   "pygments_lexer": "ipython3",
   "version": "3.12.4"
  }
 },
 "nbformat": 4,
 "nbformat_minor": 2
}
